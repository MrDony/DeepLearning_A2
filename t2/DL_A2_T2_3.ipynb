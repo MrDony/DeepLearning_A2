{
  "nbformat": 4,
  "nbformat_minor": 0,
  "metadata": {
    "colab": {
      "provenance": [],
      "gpuType": "T4"
    },
    "kernelspec": {
      "name": "python3",
      "display_name": "Python 3"
    },
    "language_info": {
      "name": "python"
    },
    "accelerator": "GPU"
  },
  "cells": [
    {
      "cell_type": "code",
      "execution_count": null,
      "metadata": {
        "colab": {
          "base_uri": "https://localhost:8080/"
        },
        "id": "wfPUh17t_aQ5",
        "outputId": "f355ac13-2444-4216-f78f-ceb33342e2f9"
      },
      "outputs": [
        {
          "output_type": "stream",
          "name": "stdout",
          "text": [
            "Drive already mounted at /content/drive; to attempt to forcibly remount, call drive.mount(\"/content/drive\", force_remount=True).\n"
          ]
        }
      ],
      "source": [
        "from google.colab import drive\n",
        "drive.mount('/content/drive')"
      ]
    },
    {
      "cell_type": "code",
      "source": [
        "_FOLDER = 'drive/MyDrive/A2_Data/T3_Data/images/'\n",
        "_TRAIN_ANGRY_FOLDER = _FOLDER + 'train/angry'\n",
        "_TRAIN_DISGUST_FOLDER = _FOLDER + 'train/disgust'\n",
        "_TRAIN_FEAR_FOLDER = _FOLDER + 'train/fear'\n",
        "_TRAIN_HAPPY_FOLDER = _FOLDER + 'train/happy'\n",
        "_TRAIN_NEUTRAL_FOLDER = _FOLDER + 'train/neutral'\n",
        "_TRAIN_SAD_FOLDER = _FOLDER + 'train/sad'\n",
        "_TRAIN_SURPRISE_FOLDER = _FOLDER + 'train/surprise'\n",
        "\n",
        "_VALIDATION_ANGRY_FOLDER = _FOLDER + 'validation/angry'\n",
        "_VALIDATION_DISGUST_FOLDER = _FOLDER + 'validation/disgust'\n",
        "_VALIDATION_FEAR_FOLDER = _FOLDER + 'validation/fear'\n",
        "_VALIDATION_HAPPY_FOLDER = _FOLDER + 'validation/happy'\n",
        "_VALIDATION_NEUTRAL_FOLDER = _FOLDER + 'validation/neutral'\n",
        "_VALIDATION_SAD_FOLDER = _FOLDER + 'validation/sad'\n",
        "_VALIDATION_SURPRISE_FOLDER = _FOLDER + 'validation/surprise'\n",
        "\n",
        "_TRAINING_DIRECTORIES_LABELS = [\n",
        "  (_TRAIN_ANGRY_FOLDER,'angry'),\n",
        "  (_TRAIN_DISGUST_FOLDER,'disgust'),\n",
        "  (_TRAIN_FEAR_FOLDER,'fear'),\n",
        "  (_TRAIN_HAPPY_FOLDER,'happy'),\n",
        "  (_TRAIN_NEUTRAL_FOLDER,'neutral'),\n",
        "  (_TRAIN_SAD_FOLDER,'sad'),\n",
        "  (_TRAIN_SURPRISE_FOLDER,'surprise')\n",
        "]\n",
        "\n",
        "_VALIDATION_DIRECTORIES_LABELS = [\n",
        "  (_VALIDATION_ANGRY_FOLDER,'angry'),\n",
        "  (_VALIDATION_DISGUST_FOLDER,'disgust'),\n",
        "  (_VALIDATION_FEAR_FOLDER,'fear'),\n",
        "  (_VALIDATION_HAPPY_FOLDER,'happy'),\n",
        "  (_VALIDATION_NEUTRAL_FOLDER,'neutral'),\n",
        "  (_VALIDATION_SAD_FOLDER,'sad'),\n",
        "  (_VALIDATION_SURPRISE_FOLDER,'surprise')\n",
        "]"
      ],
      "metadata": {
        "id": "Kt_W67rMfWTA"
      },
      "execution_count": null,
      "outputs": []
    },
    {
      "cell_type": "code",
      "source": [
        "import cv2\n",
        "import os\n",
        "import pandas as pd\n",
        "import numpy as np\n",
        "import random\n",
        "\n",
        "_PICK_BATCH_SIZE = 5000\n",
        "_CLASSIFICATION_SIZE = 7\n",
        "\n",
        "def one_hot_encode(x,size=_CLASSIFICATION_SIZE):\n",
        "  label = {'angry':0,'disgust':1,'fear':2,'happy':3,'neutral':4,'sad':5,'surprise':6}\n",
        "  x = label[x]\n",
        "  ohe = np.zeros(size)\n",
        "  ohe[x]=1\n",
        "  return ohe\n",
        "\n",
        "training_images_labels_list_all = []\n",
        "for training_directory_label in _TRAINING_DIRECTORIES_LABELS:\n",
        "  label = training_directory_label[1]\n",
        "  directory = training_directory_label[0]\n",
        "  print('\\n',directory)\n",
        "  for filename in os.listdir(directory):\n",
        "      if filename.endswith('.jpg') or filename.endswith('.png') or filename.endswith('.jpeg'):\n",
        "        if(len(training_images_labels_list_all)%100==0):\n",
        "          print('.',end='')\n",
        "        image = cv2.imread(os.path.join(directory, filename))\n",
        "        training_images_labels_list_all.append([image,label])\n",
        "      else:\n",
        "          print(f'Unable to read image: {filename}')\n",
        "\n",
        "print(f'Total images in the training set: {len(training_images_labels_list_all)}')"
      ],
      "metadata": {
        "colab": {
          "base_uri": "https://localhost:8080/"
        },
        "id": "ghl2h7F1mqI5",
        "outputId": "88e1b9aa-30e5-48d3-dd74-7ee7f2f45508"
      },
      "execution_count": null,
      "outputs": [
        {
          "output_type": "stream",
          "name": "stdout",
          "text": [
            "\n",
            " drive/MyDrive/A2_Data/T3_Data/images/train/angry\n",
            "........................................\n",
            " drive/MyDrive/A2_Data/T3_Data/images/train/disgust\n",
            ".....\n",
            " drive/MyDrive/A2_Data/T3_Data/images/train/fear\n",
            ".........................................\n",
            " drive/MyDrive/A2_Data/T3_Data/images/train/happy\n",
            ".......................................................................\n",
            " drive/MyDrive/A2_Data/T3_Data/images/train/neutral\n",
            "..................................................\n",
            " drive/MyDrive/A2_Data/T3_Data/images/train/sad\n",
            "..................................................\n",
            " drive/MyDrive/A2_Data/T3_Data/images/train/surprise\n",
            "................................Total images in the training set: 28823\n"
          ]
        }
      ]
    },
    {
      "cell_type": "code",
      "source": [],
      "metadata": {
        "id": "6EAKKJrXc9Ok"
      },
      "execution_count": null,
      "outputs": []
    },
    {
      "cell_type": "code",
      "source": [
        "#test train split\n",
        "def get_col(array,index):\n",
        "  arr = []\n",
        "  for row in array:\n",
        "    arr.append(row[index])\n",
        "  return arr\n",
        "\n",
        "def encode_labels(y):\n",
        "  arr = []\n",
        "  for label in y:\n",
        "    arr.append(one_hot_encode(label))\n",
        "  return arr\n",
        "\n",
        "from sklearn.model_selection import train_test_split\n",
        "X = get_col(training_images_labels_list_all,0)\n",
        "y = get_col(training_images_labels_list_all,1)\n",
        "y = encode_labels(y)\n",
        "X_train_imgs_locations, X_test_img_locations, y_train, y_test = train_test_split(X, y, test_size=0.2, random_state=42)"
      ],
      "metadata": {
        "id": "_3EHfWEWrYla"
      },
      "execution_count": null,
      "outputs": []
    },
    {
      "cell_type": "code",
      "source": [
        "len(X_train_imgs_locations), len(y_train), len(X_test_img_locations), len(y_test)"
      ],
      "metadata": {
        "colab": {
          "base_uri": "https://localhost:8080/"
        },
        "id": "xC4rTptasvIf",
        "outputId": "b9cfca07-1efa-4b6f-f56b-fea0945cb749"
      },
      "execution_count": null,
      "outputs": [
        {
          "output_type": "execute_result",
          "data": {
            "text/plain": [
              "(23058, 23058, 5765, 5765)"
            ]
          },
          "metadata": {},
          "execution_count": 5
        }
      ]
    },
    {
      "cell_type": "code",
      "source": [
        "#config model\n",
        "import tensorflow as tf\n",
        "gpus = tf.config.experimental.list_physical_devices('GPU')\n",
        "if gpus:\n",
        "  # Restrict TensorFlow to only allocate 1GB of memory on the first GPU\n",
        "  try:\n",
        "    tf.config.experimental.set_virtual_device_configuration(\n",
        "        gpus[0],\n",
        "        [tf.config.experimental.VirtualDeviceConfiguration(memory_limit=14336)]) # Notice here\n",
        "    logical_gpus = tf.config.experimental.list_logical_devices('GPU')\n",
        "    print(len(gpus), \"Physical GPUs,\", len(logical_gpus), \"Logical GPUs\")\n",
        "  except RuntimeError as e:\n",
        "    # Virtual devices must be set before GPUs have been initialized\n",
        "    print(e)"
      ],
      "metadata": {
        "colab": {
          "base_uri": "https://localhost:8080/"
        },
        "id": "m3VbwYOf7pgy",
        "outputId": "cabe2b31-23c8-486e-eca3-dfba0e234d0c"
      },
      "execution_count": null,
      "outputs": [
        {
          "output_type": "stream",
          "name": "stdout",
          "text": [
            "1 Physical GPUs, 1 Logical GPUs\n"
          ]
        }
      ]
    },
    {
      "cell_type": "markdown",
      "source": [
        "#declare model\n",
        "history = []\n",
        "model = None\n",
        "from tensorflow.keras.models import Sequential\n",
        "from tensorflow.keras.layers import Conv2D, MaxPooling2D, Flatten, Dense, Dropout\n",
        "\n",
        "_IMAGES_SHAPE = (48, 48, 3)\n",
        "epochs = 20\n",
        "batch_size = 10\n",
        "model = Sequential([\n",
        "    Conv2D(2, (2, 2), activation='relu', input_shape=_IMAGES_SHAPE),\n",
        "    MaxPooling2D((2, 2)),\n",
        "    Conv2D(4, (3, 3), activation='relu'),\n",
        "    MaxPooling2D((2, 2)),\n",
        "    Conv2D(8, (3, 3), activation='relu'),\n",
        "    MaxPooling2D((2, 2)),\n",
        "    Conv2D(16, (2, 2), activation='relu'),\n",
        "    MaxPooling2D((2, 2)),\n",
        "    Flatten(),\n",
        "    Dense(256, activation='relu'),\n",
        "    Dropout(0.6),\n",
        "    Dense(7, activation='softmax')\n",
        "])\n",
        "model.compile(optimizer='adam',\n",
        "              loss='categorical_crossentropy',\n",
        "              metrics=['accuracy'])"
      ],
      "metadata": {
        "id": "Xy4GwwZnYvgp"
      }
    },
    {
      "cell_type": "code",
      "source": [
        "#pick a number of images from the training set to train model on\n",
        "train_images_list = X_train_imgs_locations\n",
        "train_labels_list = y_train\n"
      ],
      "metadata": {
        "id": "QsPEqde1Y7Kx"
      },
      "execution_count": null,
      "outputs": []
    },
    {
      "cell_type": "code",
      "source": [
        "# Split dataset\n",
        "X_train, X_val, y_train, y_val = train_test_split(train_images_list, train_labels_list, test_size=0.2, random_state=42)\n",
        "np.shape(X_train), np.shape(y_train), np.shape(X_val), np.shape(y_val)"
      ],
      "metadata": {
        "colab": {
          "base_uri": "https://localhost:8080/"
        },
        "id": "8Fb4o_oqicdp",
        "outputId": "aeedf86a-2aec-4070-9d4a-46c610eacab1"
      },
      "execution_count": null,
      "outputs": [
        {
          "output_type": "execute_result",
          "data": {
            "text/plain": [
              "((18446, 48, 48, 3), (18446, 7), (4612, 48, 48, 3), (4612, 7))"
            ]
          },
          "metadata": {},
          "execution_count": 8
        }
      ]
    },
    {
      "cell_type": "code",
      "source": [
        "\n",
        "\n",
        "from tensorflow.keras.models import Sequential\n",
        "from tensorflow.keras.layers import Conv2D, MaxPooling2D, Flatten, Dense, Dropout, BatchNormalization\n",
        "from tensorflow.keras.preprocessing.image import ImageDataGenerator\n",
        "from tensorflow.keras.optimizers import Adam\n",
        "# Data Augmentation\n",
        "datagen = ImageDataGenerator(\n",
        "    rotation_range=15,\n",
        "    width_shift_range=0.1,\n",
        "    height_shift_range=0.1,\n",
        "    horizontal_flip=True,\n",
        "    vertical_flip=True,\n",
        "    zoom_range=0.1\n",
        ")\n",
        "datagen.fit(X_train)\n",
        "_IMAGES_SHAPE = (48, 48, 3)\n",
        "# Model architecture\n",
        "model = Sequential([\n",
        "    Conv2D(128, (2, 2), activation='relu', input_shape=_IMAGES_SHAPE),\n",
        "    BatchNormalization(),\n",
        "    MaxPooling2D(2, 2),\n",
        "    Dropout(0.5),\n",
        "    Conv2D(128, (5, 5), activation='relu'),\n",
        "    BatchNormalization(),\n",
        "    MaxPooling2D(2, 2),\n",
        "    Dropout(0.3),\n",
        "    Conv2D(512, (3, 3), activation='relu'),\n",
        "\n",
        "    Flatten(),\n",
        "    Dense(256, activation='relu'),\n",
        "    Dense(128, activation='relu'),\n",
        "    Dropout(0.3),\n",
        "    Dense(_CLASSIFICATION_SIZE, activation='softmax')\n",
        "])\n",
        "\n",
        "from keras.callbacks import ModelCheckpoint, EarlyStopping, ReduceLROnPlateau\n",
        "\n",
        "checkpoint = ModelCheckpoint(\"./model.h5\", monitor='val_acc', verbose=1, save_best_only=True, mode='max')\n",
        "\n",
        "early_stopping = EarlyStopping(monitor='val_loss',\n",
        "                          min_delta=0,\n",
        "                          patience=1,\n",
        "                          verbose=1,\n",
        "                          restore_best_weights=True\n",
        "                          )\n",
        "\n",
        "reduce_learningrate = ReduceLROnPlateau(monitor='val_loss',\n",
        "                              factor=0.2,\n",
        "                              patience=3,\n",
        "                              verbose=1,\n",
        "                              min_delta=0.0001)\n",
        "\n",
        "callbacks_list = [early_stopping,checkpoint,reduce_learningrate]\n",
        "\n",
        "epochs = 48\n",
        "\n",
        "model.compile(loss='categorical_crossentropy',\n",
        "              optimizer = Adam(learning_rate=0.001),\n",
        "              metrics=['accuracy'])\n",
        "\n",
        "print(np.shape(X_train), np.shape(y_train), np.shape(X_val), np.shape(y_val))\n",
        "# Train the model\n",
        "with tf.device('/device:GPU:0'):\n",
        "  history = model.fit(np.array(X_train), np.array(y_train),  batch_size=42, validation_data=(np.array(X_val), np.array(y_val)), epochs=20)"
      ],
      "metadata": {
        "colab": {
          "base_uri": "https://localhost:8080/"
        },
        "id": "7-hR86Zb7kKz",
        "outputId": "58ba943c-ea86-45b8-d59f-1ebdebf39c70"
      },
      "execution_count": null,
      "outputs": [
        {
          "output_type": "stream",
          "name": "stdout",
          "text": [
            "(18446, 48, 48, 3) (18446, 7) (4612, 48, 48, 3) (4612, 7)\n",
            "Epoch 1/20\n",
            "440/440 [==============================] - 14s 24ms/step - loss: 1.6927 - accuracy: 0.3460 - val_loss: 1.5162 - val_accuracy: 0.4198\n",
            "Epoch 2/20\n",
            "440/440 [==============================] - 10s 23ms/step - loss: 1.4496 - accuracy: 0.4373 - val_loss: 1.3808 - val_accuracy: 0.4699\n",
            "Epoch 3/20\n",
            "440/440 [==============================] - 11s 24ms/step - loss: 1.3483 - accuracy: 0.4829 - val_loss: 1.5234 - val_accuracy: 0.3990\n",
            "Epoch 4/20\n",
            "440/440 [==============================] - 10s 23ms/step - loss: 1.2713 - accuracy: 0.5119 - val_loss: 1.4191 - val_accuracy: 0.4525\n",
            "Epoch 5/20\n",
            "440/440 [==============================] - 10s 23ms/step - loss: 1.1846 - accuracy: 0.5491 - val_loss: 1.3868 - val_accuracy: 0.4872\n",
            "Epoch 6/20\n",
            "440/440 [==============================] - 10s 23ms/step - loss: 1.0930 - accuracy: 0.5856 - val_loss: 1.3261 - val_accuracy: 0.5104\n",
            "Epoch 7/20\n",
            "440/440 [==============================] - 10s 23ms/step - loss: 0.9888 - accuracy: 0.6284 - val_loss: 1.3431 - val_accuracy: 0.5297\n",
            "Epoch 8/20\n",
            "440/440 [==============================] - 10s 23ms/step - loss: 0.8836 - accuracy: 0.6721 - val_loss: 1.7300 - val_accuracy: 0.4993\n",
            "Epoch 9/20\n",
            "440/440 [==============================] - 10s 23ms/step - loss: 0.7696 - accuracy: 0.7139 - val_loss: 1.5326 - val_accuracy: 0.5176\n",
            "Epoch 10/20\n",
            "440/440 [==============================] - 10s 23ms/step - loss: 0.6671 - accuracy: 0.7555 - val_loss: 1.7043 - val_accuracy: 0.5247\n",
            "Epoch 11/20\n",
            "440/440 [==============================] - 10s 23ms/step - loss: 0.5791 - accuracy: 0.7897 - val_loss: 1.6712 - val_accuracy: 0.5308\n",
            "Epoch 12/20\n",
            "440/440 [==============================] - 10s 23ms/step - loss: 0.4906 - accuracy: 0.8235 - val_loss: 1.9038 - val_accuracy: 0.5356\n",
            "Epoch 13/20\n",
            "440/440 [==============================] - 10s 23ms/step - loss: 0.4350 - accuracy: 0.8457 - val_loss: 2.6586 - val_accuracy: 0.5037\n",
            "Epoch 14/20\n",
            "440/440 [==============================] - 10s 23ms/step - loss: 0.3726 - accuracy: 0.8671 - val_loss: 2.2309 - val_accuracy: 0.5271\n",
            "Epoch 15/20\n",
            "440/440 [==============================] - 10s 23ms/step - loss: 0.3314 - accuracy: 0.8861 - val_loss: 2.0577 - val_accuracy: 0.5239\n",
            "Epoch 16/20\n",
            "440/440 [==============================] - 10s 23ms/step - loss: 0.2829 - accuracy: 0.9015 - val_loss: 2.6712 - val_accuracy: 0.5421\n",
            "Epoch 17/20\n",
            "440/440 [==============================] - 10s 23ms/step - loss: 0.2691 - accuracy: 0.9077 - val_loss: 2.6214 - val_accuracy: 0.5208\n",
            "Epoch 18/20\n",
            "440/440 [==============================] - 10s 23ms/step - loss: 0.2467 - accuracy: 0.9199 - val_loss: 2.7886 - val_accuracy: 0.5119\n",
            "Epoch 19/20\n",
            "440/440 [==============================] - 10s 22ms/step - loss: 0.2195 - accuracy: 0.9263 - val_loss: 2.4923 - val_accuracy: 0.5312\n",
            "Epoch 20/20\n",
            "440/440 [==============================] - 10s 23ms/step - loss: 0.1966 - accuracy: 0.9353 - val_loss: 3.3242 - val_accuracy: 0.5171\n"
          ]
        }
      ]
    },
    {
      "cell_type": "code",
      "source": [
        "from tensorflow.keras.models import save_model\n",
        "\n",
        "# Define the file path where you want to save the model\n",
        "model_path = 'facial_expression_recognission_3.0.h5'\n",
        "\n",
        "# Save the model to the specified file path\n",
        "model.save(model_path)\n",
        "\n",
        "print(f\"Model saved to {model_path}\")"
      ],
      "metadata": {
        "colab": {
          "base_uri": "https://localhost:8080/"
        },
        "id": "QpAeh6Rm9yUf",
        "outputId": "cbae5461-14f7-4ffb-f6a3-972a582ae5c8"
      },
      "execution_count": null,
      "outputs": [
        {
          "output_type": "stream",
          "name": "stdout",
          "text": [
            "Model saved to facial_expression_recognission_3.0.h5\n"
          ]
        }
      ]
    },
    {
      "cell_type": "code",
      "source": [
        "print(history.history)"
      ],
      "metadata": {
        "colab": {
          "base_uri": "https://localhost:8080/"
        },
        "id": "KTlo7EpAnSFC",
        "outputId": "3add8b52-b950-4dcc-90b5-67b5979df790"
      },
      "execution_count": null,
      "outputs": [
        {
          "output_type": "stream",
          "name": "stdout",
          "text": [
            "{'loss': [1.6927040815353394, 1.4496334791183472, 1.348257303237915, 1.271256446838379, 1.1846392154693604, 1.093000888824463, 0.9888171553611755, 0.8836280703544617, 0.769575297832489, 0.6670976281166077, 0.5790687203407288, 0.49061349034309387, 0.4350476562976837, 0.37256547808647156, 0.3314194679260254, 0.2829115092754364, 0.2691361904144287, 0.24668434262275696, 0.2194606214761734, 0.19655077159404755], 'accuracy': [0.3460370898246765, 0.43727636337280273, 0.48292312026023865, 0.5119267106056213, 0.5490621328353882, 0.5856012105941772, 0.6283746957778931, 0.6721240282058716, 0.7139217257499695, 0.7555025219917297, 0.7896562814712524, 0.8235389590263367, 0.8456575870513916, 0.8670714497566223, 0.8860999941825867, 0.9014962315559387, 0.9076764583587646, 0.9198742508888245, 0.9263255000114441, 0.9352705478668213], 'val_loss': [1.5162453651428223, 1.380768060684204, 1.5234134197235107, 1.4191285371780396, 1.3868173360824585, 1.326119303703308, 1.3430826663970947, 1.7300190925598145, 1.5326470136642456, 1.704342007637024, 1.6712396144866943, 1.9038230180740356, 2.6585545539855957, 2.2309110164642334, 2.0577046871185303, 2.671236991882324, 2.6214447021484375, 2.788635015487671, 2.4923129081726074, 3.3241851329803467], 'val_accuracy': [0.41977450251579285, 0.46986123919487, 0.3989592492580414, 0.452515184879303, 0.487207293510437, 0.5104076266288757, 0.5297051072120667, 0.49934953451156616, 0.5175628662109375, 0.5247181057929993, 0.5307892560958862, 0.5355594158172607, 0.5036860108375549, 0.5271031856536865, 0.5238507986068726, 0.5420641899108887, 0.5208152532577515, 0.5119253993034363, 0.5312228798866272, 0.5171292424201965]}\n"
          ]
        }
      ]
    },
    {
      "cell_type": "code",
      "source": [
        "file_path = '3.0'+'_history.txt'\n",
        "with open(file_path, 'w') as file:\n",
        "    file.write(str(history.history))"
      ],
      "metadata": {
        "id": "sW9_cgqc7msZ"
      },
      "execution_count": 44,
      "outputs": []
    },
    {
      "cell_type": "code",
      "source": [
        "X_test = X_test_img_locations\n",
        "y_test = y_test"
      ],
      "metadata": {
        "id": "h2eEwfHfuRAf"
      },
      "execution_count": null,
      "outputs": []
    },
    {
      "cell_type": "code",
      "source": [
        "np.shape(X_test)"
      ],
      "metadata": {
        "colab": {
          "base_uri": "https://localhost:8080/"
        },
        "id": "mq_3Ol57urdt",
        "outputId": "9a9a5b98-7033-4276-a9c7-5f5e52040c51"
      },
      "execution_count": null,
      "outputs": [
        {
          "output_type": "execute_result",
          "data": {
            "text/plain": [
              "(5765, 48, 48, 3)"
            ]
          },
          "metadata": {},
          "execution_count": 36
        }
      ]
    },
    {
      "cell_type": "code",
      "source": [
        "predicted = model.predict(np.array(X_test))"
      ],
      "metadata": {
        "colab": {
          "base_uri": "https://localhost:8080/"
        },
        "id": "BldTAH1AonDB",
        "outputId": "79bef972-300f-45fe-9b93-512bf15956de"
      },
      "execution_count": null,
      "outputs": [
        {
          "output_type": "stream",
          "name": "stdout",
          "text": [
            "181/181 [==============================] - 1s 5ms/step\n"
          ]
        }
      ]
    },
    {
      "cell_type": "code",
      "source": [
        "print(y_test[0])"
      ],
      "metadata": {
        "colab": {
          "base_uri": "https://localhost:8080/"
        },
        "id": "qjWCZgi6v2lo",
        "outputId": "fc0f3bf2-a48c-4782-92b2-68be5d04e5fd"
      },
      "execution_count": null,
      "outputs": [
        {
          "output_type": "stream",
          "name": "stdout",
          "text": [
            "[0. 0. 0. 1. 0. 0. 0.]\n"
          ]
        }
      ]
    },
    {
      "cell_type": "code",
      "source": [
        "def get_index_of_max_ele(arr):\n",
        "  max_index = 0  # Initialize the index of the maximum element to 0\n",
        "  max_element = arr[0]  # Initialize the maximum element to the first element\n",
        "\n",
        "  for i in range(1, len(arr)):\n",
        "      if arr[i] > max_element:\n",
        "          max_element = arr[i]\n",
        "          max_index = i\n",
        "\n",
        "  return max_index\n",
        "def remap(predicted):\n",
        "  arr = []\n",
        "  for i in predicted:\n",
        "    arr.append(get_index_of_max_ele(i))\n",
        "  return arr\n",
        "\n",
        "def get_accuracy(predicted,actual):\n",
        "  accuracy = 0\n",
        "  for i in range(len(predicted)):\n",
        "    if(predicted[i]==actual[i]):\n",
        "      accuracy+=1\n",
        "  return accuracy/len(predicted)\n",
        "\n",
        "accuracy_on_test = get_accuracy(remap(predicted),remap(y_test))"
      ],
      "metadata": {
        "id": "xStJEUlEuXdw"
      },
      "execution_count": null,
      "outputs": []
    },
    {
      "cell_type": "code",
      "source": [
        "print(accuracy_on_test)"
      ],
      "metadata": {
        "colab": {
          "base_uri": "https://localhost:8080/"
        },
        "id": "rfzgO_u5v8ou",
        "outputId": "8b914ff3-6fa7-4cae-8b9e-64983f7d19be"
      },
      "execution_count": null,
      "outputs": [
        {
          "output_type": "stream",
          "name": "stdout",
          "text": [
            "0.5257588898525586\n"
          ]
        }
      ]
    },
    {
      "cell_type": "code",
      "source": [],
      "metadata": {
        "id": "DrDKNzerv_Bz"
      },
      "execution_count": null,
      "outputs": []
    }
  ]
}